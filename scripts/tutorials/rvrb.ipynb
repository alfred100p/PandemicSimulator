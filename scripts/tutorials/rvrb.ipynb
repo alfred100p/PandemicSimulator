{
 "cells": [
  {
   "cell_type": "code",
   "execution_count": 1,
   "metadata": {},
   "outputs": [
    {
     "name": "stderr",
     "output_type": "stream",
     "text": [
      "2022-04-11 15:44:37.327954: W tensorflow/stream_executor/platform/default/dso_loader.cc:64] Could not load dynamic library 'libcudart.so.11.0'; dlerror: libcudart.so.11.0: cannot open shared object file: No such file or directory\n",
      "2022-04-11 15:44:37.327975: I tensorflow/stream_executor/cuda/cudart_stub.cc:29] Ignore above cudart dlerror if you do not have a GPU set up on your machine.\n"
     ]
    }
   ],
   "source": [
    "import reverb\n",
    "import tensorflow as tf\n",
    "import pandemic_simulator as ps\n",
    "from tqdm import trange\n",
    "import random\n",
    "\n",
    "import numpy as np"
   ]
  },
  {
   "cell_type": "code",
   "execution_count": 2,
   "metadata": {},
   "outputs": [
    {
     "name": "stderr",
     "output_type": "stream",
     "text": [
      "/home/alfred/anaconda3/envs/psrl/lib/python3.8/site-packages/tf_agents/typing/types.py:81: DeprecationWarning: `np.bool` is a deprecated alias for the builtin `bool`. To silence this warning, use `bool` by itself. Doing this will not modify any behavior and is safe. If you specifically wanted the numpy scalar type, use `np.bool_` here.\n",
      "Deprecated in NumPy 1.20; for more details and guidance: https://numpy.org/devdocs/release/1.20.0-notes.html#deprecations\n",
      "  Bool = Union[bool, np.bool, Tensor, Array]\n"
     ]
    }
   ],
   "source": [
    "from tf_agents.agents.ddpg import critic_network\n",
    "from tf_agents.agents.sac import sac_agent\n",
    "from tf_agents.agents.sac import tanh_normal_projection_network\n",
    "from tf_agents.metrics import py_metrics\n",
    "from tf_agents.networks import actor_distribution_network\n",
    "from tf_agents.policies import greedy_policy\n",
    "from tf_agents.policies import py_tf_eager_policy\n",
    "from tf_agents.policies import random_py_policy\n",
    "from tf_agents.replay_buffers import reverb_replay_buffer\n",
    "from tf_agents.replay_buffers import reverb_utils\n",
    "from tf_agents.train import actor\n",
    "from tf_agents.train import learner\n",
    "from tf_agents.train import triggers\n",
    "from tf_agents.train.utils import spec_utils\n",
    "from tf_agents.train.utils import strategy_utils\n",
    "from tf_agents.train.utils import train_utils\n",
    "\n",
    "from tf_agents.specs import BoundedArraySpec\n",
    "\n"
   ]
  },
  {
   "cell_type": "code",
   "execution_count": 34,
   "metadata": {},
   "outputs": [],
   "source": [
    "num_iterations = 1000\n",
    "\n",
    "initial_collect_steps = 1000\n",
    "collect_steps_per_iteration = 1\n",
    "replay_buffer_capacity = 1000\n",
    "\n",
    "batch_size = 32\n",
    "\n",
    "critic_learining_rate = 1e-5\n",
    "actor_learning_rate = 1e-5\n",
    "alpha_learning_rate = 1e-5\n",
    "targe_update_tau = 0.05\n",
    "target_update_period = 1\n",
    "gamma = 0.99\n",
    "reward_scale_factor = 1.0\n",
    "\n",
    "actor_fc_layer_params = (256,)\n",
    "critic_joint_fc_layer_params = (256,)\n",
    "\n",
    "log_interval = 5000\n",
    "\n",
    "num_eval_episodes = 30\n",
    "eval_interval = 20\n",
    "\n",
    "policy_save_interval = 50"
   ]
  },
  {
   "cell_type": "code",
   "execution_count": 35,
   "metadata": {},
   "outputs": [],
   "source": [
    "ps.init_globals(seed=random.randint(0,1000))\n",
    "\n",
    "sim_config = ps.sh.small_town_config\n",
    "\n",
    "viz = ps.viz.GymViz.from_config(sim_config=sim_config)\n",
    "collect_env = ps.env.PandemicGymEnv.from_config(name='collect', sim_config=sim_config, pandemic_regulations=ps.sh.austin_regulations,done_fn=ps.env.done.ORDone(done_fns=[ps.env.done.InfectionSummaryAboveThresholdDone(summary_type=ps.env.infection_model.InfectionSummary.CRITICAL,threshold=sim_config.max_hospital_capacity*3),ps.env.done.NoPandemicDone(num_days=30)]))\n",
    "\n",
    "ps.init_globals(seed=random.randint(0,1000))#check if this affects both envs or just one\n",
    "\n",
    "eval_env = ps.env.PandemicGymEnv.from_config(name='eval', sim_config=sim_config, pandemic_regulations=ps.sh.austin_regulations,done_fn=ps.env.done.ORDone(done_fns=[ps.env.done.InfectionSummaryAboveThresholdDone(summary_type=ps.env.infection_model.InfectionSummary.CRITICAL,threshold=sim_config.max_hospital_capacity*3),ps.env.done.NoPandemicDone(num_days=30)]))\n"
   ]
  },
  {
   "cell_type": "code",
   "execution_count": 36,
   "metadata": {},
   "outputs": [
    {
     "name": "stdout",
     "output_type": "stream",
     "text": [
      "WARNING:tensorflow:There are non-GPU devices in `tf.distribute.Strategy`, not using nccl allreduce.\n"
     ]
    },
    {
     "name": "stderr",
     "output_type": "stream",
     "text": [
      "WARNING:tensorflow:There are non-GPU devices in `tf.distribute.Strategy`, not using nccl allreduce.\n"
     ]
    },
    {
     "name": "stdout",
     "output_type": "stream",
     "text": [
      "INFO:tensorflow:Using MirroredStrategy with devices ('/job:localhost/replica:0/task:0/device:CPU:0',)\n"
     ]
    },
    {
     "name": "stderr",
     "output_type": "stream",
     "text": [
      "INFO:tensorflow:Using MirroredStrategy with devices ('/job:localhost/replica:0/task:0/device:CPU:0',)\n"
     ]
    }
   ],
   "source": [
    "use_gpu = True #@param {type:\"boolean\"}\n",
    "\n",
    "strategy = strategy_utils.get_strategy(tpu=False, use_gpu=use_gpu)"
   ]
  },
  {
   "cell_type": "code",
   "execution_count": 37,
   "metadata": {},
   "outputs": [],
   "source": [
    "observation_spec =BoundedArraySpec([13,],np.float32,minimum=0,maximum=1)\n",
    "action_spec=BoundedArraySpec([3,], np.float32,minimum=0,maximum=2)\n",
    "time_step_spec = BoundedArraySpec([13,],np.float32,minimum=0,maximum=1)"
   ]
  },
  {
   "cell_type": "code",
   "execution_count": 38,
   "metadata": {},
   "outputs": [],
   "source": [
    "#define critic net\n",
    "with strategy.scope():\n",
    "  critic_net = critic_network.CriticNetwork(\n",
    "        (observation_spec, action_spec),\n",
    "        observation_fc_layer_params=None,\n",
    "        action_fc_layer_params=None,\n",
    "        joint_fc_layer_params=critic_joint_fc_layer_params,\n",
    "        kernel_initializer='glorot_uniform',\n",
    "        last_kernel_initializer='glorot_uniform')"
   ]
  },
  {
   "cell_type": "code",
   "execution_count": 40,
   "metadata": {},
   "outputs": [
    {
     "ename": "AttributeError",
     "evalue": "'tuple' object has no attribute 'num_elements'\n  In call to configurable 'TanhNormalProjectionNetwork' (<class 'tf_agents.agents.sac.tanh_normal_projection_network.TanhNormalProjectionNetwork'>)\n  In call to configurable 'ActorDistributionNetwork' (<class 'tf_agents.networks.actor_distribution_network.ActorDistributionNetwork'>)",
     "output_type": "error",
     "traceback": [
      "\u001b[0;31m---------------------------------------------------------------------------\u001b[0m",
      "\u001b[0;31mAttributeError\u001b[0m                            Traceback (most recent call last)",
      "\u001b[1;32m/home/alfred/Desktop/GitHub/viztest/PandemicSimulator/scripts/tutorials/rvrb.ipynb Cell 8'\u001b[0m in \u001b[0;36m<cell line: 1>\u001b[0;34m()\u001b[0m\n\u001b[1;32m      <a href='vscode-notebook-cell:/home/alfred/Desktop/GitHub/viztest/PandemicSimulator/scripts/tutorials/rvrb.ipynb#ch0000007?line=0'>1</a>\u001b[0m \u001b[39mwith\u001b[39;00m strategy\u001b[39m.\u001b[39mscope():\n\u001b[0;32m----> <a href='vscode-notebook-cell:/home/alfred/Desktop/GitHub/viztest/PandemicSimulator/scripts/tutorials/rvrb.ipynb#ch0000007?line=1'>2</a>\u001b[0m   actor_net \u001b[39m=\u001b[39m actor_distribution_network\u001b[39m.\u001b[39;49mActorDistributionNetwork(\n\u001b[1;32m      <a href='vscode-notebook-cell:/home/alfred/Desktop/GitHub/viztest/PandemicSimulator/scripts/tutorials/rvrb.ipynb#ch0000007?line=2'>3</a>\u001b[0m       observation_spec,\n\u001b[1;32m      <a href='vscode-notebook-cell:/home/alfred/Desktop/GitHub/viztest/PandemicSimulator/scripts/tutorials/rvrb.ipynb#ch0000007?line=3'>4</a>\u001b[0m       action_spec,\n\u001b[1;32m      <a href='vscode-notebook-cell:/home/alfred/Desktop/GitHub/viztest/PandemicSimulator/scripts/tutorials/rvrb.ipynb#ch0000007?line=4'>5</a>\u001b[0m       fc_layer_params\u001b[39m=\u001b[39;49mactor_fc_layer_params,\n\u001b[1;32m      <a href='vscode-notebook-cell:/home/alfred/Desktop/GitHub/viztest/PandemicSimulator/scripts/tutorials/rvrb.ipynb#ch0000007?line=5'>6</a>\u001b[0m       continuous_projection_net\u001b[39m=\u001b[39;49m(\n\u001b[1;32m      <a href='vscode-notebook-cell:/home/alfred/Desktop/GitHub/viztest/PandemicSimulator/scripts/tutorials/rvrb.ipynb#ch0000007?line=6'>7</a>\u001b[0m           tanh_normal_projection_network\u001b[39m.\u001b[39;49mTanhNormalProjectionNetwork))\n",
      "File \u001b[0;32m~/anaconda3/envs/psrl/lib/python3.8/site-packages/gin/config.py:1605\u001b[0m, in \u001b[0;36m_make_gin_wrapper.<locals>.gin_wrapper\u001b[0;34m(*args, **kwargs)\u001b[0m\n\u001b[1;32m   <a href='file:///home/alfred/anaconda3/envs/psrl/lib/python3.8/site-packages/gin/config.py?line=1602'>1603</a>\u001b[0m scope_info \u001b[39m=\u001b[39m \u001b[39m\"\u001b[39m\u001b[39m in scope \u001b[39m\u001b[39m'\u001b[39m\u001b[39m{}\u001b[39;00m\u001b[39m'\u001b[39m\u001b[39m\"\u001b[39m\u001b[39m.\u001b[39mformat(scope_str) \u001b[39mif\u001b[39;00m scope_str \u001b[39melse\u001b[39;00m \u001b[39m'\u001b[39m\u001b[39m'\u001b[39m\n\u001b[1;32m   <a href='file:///home/alfred/anaconda3/envs/psrl/lib/python3.8/site-packages/gin/config.py?line=1603'>1604</a>\u001b[0m err_str \u001b[39m=\u001b[39m err_str\u001b[39m.\u001b[39mformat(name, fn_or_cls, scope_info)\n\u001b[0;32m-> <a href='file:///home/alfred/anaconda3/envs/psrl/lib/python3.8/site-packages/gin/config.py?line=1604'>1605</a>\u001b[0m utils\u001b[39m.\u001b[39;49maugment_exception_message_and_reraise(e, err_str)\n",
      "File \u001b[0;32m~/anaconda3/envs/psrl/lib/python3.8/site-packages/gin/utils.py:41\u001b[0m, in \u001b[0;36maugment_exception_message_and_reraise\u001b[0;34m(exception, message)\u001b[0m\n\u001b[1;32m     <a href='file:///home/alfred/anaconda3/envs/psrl/lib/python3.8/site-packages/gin/utils.py?line=38'>39</a>\u001b[0m proxy \u001b[39m=\u001b[39m ExceptionProxy()\n\u001b[1;32m     <a href='file:///home/alfred/anaconda3/envs/psrl/lib/python3.8/site-packages/gin/utils.py?line=39'>40</a>\u001b[0m ExceptionProxy\u001b[39m.\u001b[39m\u001b[39m__qualname__\u001b[39m \u001b[39m=\u001b[39m \u001b[39mtype\u001b[39m(exception)\u001b[39m.\u001b[39m\u001b[39m__qualname__\u001b[39m\n\u001b[0;32m---> <a href='file:///home/alfred/anaconda3/envs/psrl/lib/python3.8/site-packages/gin/utils.py?line=40'>41</a>\u001b[0m \u001b[39mraise\u001b[39;00m proxy\u001b[39m.\u001b[39mwith_traceback(exception\u001b[39m.\u001b[39m__traceback__) \u001b[39mfrom\u001b[39;00m \u001b[39mNone\u001b[39m\n",
      "File \u001b[0;32m~/anaconda3/envs/psrl/lib/python3.8/site-packages/gin/config.py:1582\u001b[0m, in \u001b[0;36m_make_gin_wrapper.<locals>.gin_wrapper\u001b[0;34m(*args, **kwargs)\u001b[0m\n\u001b[1;32m   <a href='file:///home/alfred/anaconda3/envs/psrl/lib/python3.8/site-packages/gin/config.py?line=1578'>1579</a>\u001b[0m new_kwargs\u001b[39m.\u001b[39mupdate(kwargs)\n\u001b[1;32m   <a href='file:///home/alfred/anaconda3/envs/psrl/lib/python3.8/site-packages/gin/config.py?line=1580'>1581</a>\u001b[0m \u001b[39mtry\u001b[39;00m:\n\u001b[0;32m-> <a href='file:///home/alfred/anaconda3/envs/psrl/lib/python3.8/site-packages/gin/config.py?line=1581'>1582</a>\u001b[0m   \u001b[39mreturn\u001b[39;00m fn(\u001b[39m*\u001b[39;49mnew_args, \u001b[39m*\u001b[39;49m\u001b[39m*\u001b[39;49mnew_kwargs)\n\u001b[1;32m   <a href='file:///home/alfred/anaconda3/envs/psrl/lib/python3.8/site-packages/gin/config.py?line=1582'>1583</a>\u001b[0m \u001b[39mexcept\u001b[39;00m \u001b[39mException\u001b[39;00m \u001b[39mas\u001b[39;00m e:  \u001b[39m# pylint: disable=broad-except\u001b[39;00m\n\u001b[1;32m   <a href='file:///home/alfred/anaconda3/envs/psrl/lib/python3.8/site-packages/gin/config.py?line=1583'>1584</a>\u001b[0m   err_str \u001b[39m=\u001b[39m \u001b[39m'\u001b[39m\u001b[39m'\u001b[39m\n",
      "File \u001b[0;32m~/anaconda3/envs/psrl/lib/python3.8/site-packages/tf_agents/networks/network.py:101\u001b[0m, in \u001b[0;36m_NetworkMeta.__new__.<locals>._capture_init\u001b[0;34m(self, *args, **kwargs)\u001b[0m\n\u001b[1;32m     <a href='file:///home/alfred/anaconda3/envs/psrl/lib/python3.8/site-packages/tf_agents/networks/network.py?line=98'>99</a>\u001b[0m kwargs \u001b[39m=\u001b[39m tf_inspect\u001b[39m.\u001b[39mgetcallargs(init, \u001b[39mself\u001b[39m, \u001b[39m*\u001b[39margs, \u001b[39m*\u001b[39m\u001b[39m*\u001b[39mkwargs)\n\u001b[1;32m    <a href='file:///home/alfred/anaconda3/envs/psrl/lib/python3.8/site-packages/tf_agents/networks/network.py?line=99'>100</a>\u001b[0m kwargs\u001b[39m.\u001b[39mpop(\u001b[39m\"\u001b[39m\u001b[39mself\u001b[39m\u001b[39m\"\u001b[39m)\n\u001b[0;32m--> <a href='file:///home/alfred/anaconda3/envs/psrl/lib/python3.8/site-packages/tf_agents/networks/network.py?line=100'>101</a>\u001b[0m init(\u001b[39mself\u001b[39;49m, \u001b[39m*\u001b[39;49m\u001b[39m*\u001b[39;49mkwargs)\n\u001b[1;32m    <a href='file:///home/alfred/anaconda3/envs/psrl/lib/python3.8/site-packages/tf_agents/networks/network.py?line=101'>102</a>\u001b[0m \u001b[39m# Avoid auto tracking which prevents keras from tracking layers that are\u001b[39;00m\n\u001b[1;32m    <a href='file:///home/alfred/anaconda3/envs/psrl/lib/python3.8/site-packages/tf_agents/networks/network.py?line=102'>103</a>\u001b[0m \u001b[39m# passed as kwargs to the Network.\u001b[39;00m\n\u001b[1;32m    <a href='file:///home/alfred/anaconda3/envs/psrl/lib/python3.8/site-packages/tf_agents/networks/network.py?line=103'>104</a>\u001b[0m \u001b[39mwith\u001b[39;00m base\u001b[39m.\u001b[39mno_automatic_dependency_tracking_scope(\u001b[39mself\u001b[39m):\n",
      "File \u001b[0;32m~/anaconda3/envs/psrl/lib/python3.8/site-packages/tf_agents/networks/actor_distribution_network.py:160\u001b[0m, in \u001b[0;36mActorDistributionNetwork.__init__\u001b[0;34m(self, input_tensor_spec, output_tensor_spec, preprocessing_layers, preprocessing_combiner, conv_layer_params, fc_layer_params, dropout_layer_params, activation_fn, kernel_initializer, seed_stream_class, seed, batch_squash, dtype, discrete_projection_net, continuous_projection_net, name)\u001b[0m\n\u001b[1;32m    <a href='file:///home/alfred/anaconda3/envs/psrl/lib/python3.8/site-packages/tf_agents/networks/actor_distribution_network.py?line=156'>157</a>\u001b[0m       kwargs[\u001b[39m'\u001b[39m\u001b[39mseed_stream_class\u001b[39m\u001b[39m'\u001b[39m] \u001b[39m=\u001b[39m seed_stream_class\n\u001b[1;32m    <a href='file:///home/alfred/anaconda3/envs/psrl/lib/python3.8/site-packages/tf_agents/networks/actor_distribution_network.py?line=157'>158</a>\u001b[0m     \u001b[39mreturn\u001b[39;00m continuous_projection_net(spec, \u001b[39m*\u001b[39m\u001b[39m*\u001b[39mkwargs)\n\u001b[0;32m--> <a href='file:///home/alfred/anaconda3/envs/psrl/lib/python3.8/site-packages/tf_agents/networks/actor_distribution_network.py?line=159'>160</a>\u001b[0m projection_networks \u001b[39m=\u001b[39m tf\u001b[39m.\u001b[39;49mnest\u001b[39m.\u001b[39;49mmap_structure(map_proj, output_tensor_spec)\n\u001b[1;32m    <a href='file:///home/alfred/anaconda3/envs/psrl/lib/python3.8/site-packages/tf_agents/networks/actor_distribution_network.py?line=160'>161</a>\u001b[0m output_spec \u001b[39m=\u001b[39m tf\u001b[39m.\u001b[39mnest\u001b[39m.\u001b[39mmap_structure(\u001b[39mlambda\u001b[39;00m proj_net: proj_net\u001b[39m.\u001b[39moutput_spec,\n\u001b[1;32m    <a href='file:///home/alfred/anaconda3/envs/psrl/lib/python3.8/site-packages/tf_agents/networks/actor_distribution_network.py?line=161'>162</a>\u001b[0m                                     projection_networks)\n\u001b[1;32m    <a href='file:///home/alfred/anaconda3/envs/psrl/lib/python3.8/site-packages/tf_agents/networks/actor_distribution_network.py?line=163'>164</a>\u001b[0m \u001b[39msuper\u001b[39m(ActorDistributionNetwork, \u001b[39mself\u001b[39m)\u001b[39m.\u001b[39m\u001b[39m__init__\u001b[39m(\n\u001b[1;32m    <a href='file:///home/alfred/anaconda3/envs/psrl/lib/python3.8/site-packages/tf_agents/networks/actor_distribution_network.py?line=164'>165</a>\u001b[0m     input_tensor_spec\u001b[39m=\u001b[39minput_tensor_spec,\n\u001b[1;32m    <a href='file:///home/alfred/anaconda3/envs/psrl/lib/python3.8/site-packages/tf_agents/networks/actor_distribution_network.py?line=165'>166</a>\u001b[0m     state_spec\u001b[39m=\u001b[39m(),\n\u001b[1;32m    <a href='file:///home/alfred/anaconda3/envs/psrl/lib/python3.8/site-packages/tf_agents/networks/actor_distribution_network.py?line=166'>167</a>\u001b[0m     output_spec\u001b[39m=\u001b[39moutput_spec,\n\u001b[1;32m    <a href='file:///home/alfred/anaconda3/envs/psrl/lib/python3.8/site-packages/tf_agents/networks/actor_distribution_network.py?line=167'>168</a>\u001b[0m     name\u001b[39m=\u001b[39mname)\n",
      "File \u001b[0;32m~/.local/lib/python3.8/site-packages/tensorflow/python/util/nest.py:914\u001b[0m, in \u001b[0;36mmap_structure\u001b[0;34m(func, *structure, **kwargs)\u001b[0m\n\u001b[1;32m    <a href='file:///home/alfred/.local/lib/python3.8/site-packages/tensorflow/python/util/nest.py?line=909'>910</a>\u001b[0m flat_structure \u001b[39m=\u001b[39m (flatten(s, expand_composites) \u001b[39mfor\u001b[39;00m s \u001b[39min\u001b[39;00m structure)\n\u001b[1;32m    <a href='file:///home/alfred/.local/lib/python3.8/site-packages/tensorflow/python/util/nest.py?line=910'>911</a>\u001b[0m entries \u001b[39m=\u001b[39m \u001b[39mzip\u001b[39m(\u001b[39m*\u001b[39mflat_structure)\n\u001b[1;32m    <a href='file:///home/alfred/.local/lib/python3.8/site-packages/tensorflow/python/util/nest.py?line=912'>913</a>\u001b[0m \u001b[39mreturn\u001b[39;00m pack_sequence_as(\n\u001b[0;32m--> <a href='file:///home/alfred/.local/lib/python3.8/site-packages/tensorflow/python/util/nest.py?line=913'>914</a>\u001b[0m     structure[\u001b[39m0\u001b[39m], [func(\u001b[39m*\u001b[39mx) \u001b[39mfor\u001b[39;00m x \u001b[39min\u001b[39;00m entries],\n\u001b[1;32m    <a href='file:///home/alfred/.local/lib/python3.8/site-packages/tensorflow/python/util/nest.py?line=914'>915</a>\u001b[0m     expand_composites\u001b[39m=\u001b[39mexpand_composites)\n",
      "File \u001b[0;32m~/.local/lib/python3.8/site-packages/tensorflow/python/util/nest.py:914\u001b[0m, in \u001b[0;36m<listcomp>\u001b[0;34m(.0)\u001b[0m\n\u001b[1;32m    <a href='file:///home/alfred/.local/lib/python3.8/site-packages/tensorflow/python/util/nest.py?line=909'>910</a>\u001b[0m flat_structure \u001b[39m=\u001b[39m (flatten(s, expand_composites) \u001b[39mfor\u001b[39;00m s \u001b[39min\u001b[39;00m structure)\n\u001b[1;32m    <a href='file:///home/alfred/.local/lib/python3.8/site-packages/tensorflow/python/util/nest.py?line=910'>911</a>\u001b[0m entries \u001b[39m=\u001b[39m \u001b[39mzip\u001b[39m(\u001b[39m*\u001b[39mflat_structure)\n\u001b[1;32m    <a href='file:///home/alfred/.local/lib/python3.8/site-packages/tensorflow/python/util/nest.py?line=912'>913</a>\u001b[0m \u001b[39mreturn\u001b[39;00m pack_sequence_as(\n\u001b[0;32m--> <a href='file:///home/alfred/.local/lib/python3.8/site-packages/tensorflow/python/util/nest.py?line=913'>914</a>\u001b[0m     structure[\u001b[39m0\u001b[39m], [func(\u001b[39m*\u001b[39;49mx) \u001b[39mfor\u001b[39;00m x \u001b[39min\u001b[39;00m entries],\n\u001b[1;32m    <a href='file:///home/alfred/.local/lib/python3.8/site-packages/tensorflow/python/util/nest.py?line=914'>915</a>\u001b[0m     expand_composites\u001b[39m=\u001b[39mexpand_composites)\n",
      "File \u001b[0;32m~/anaconda3/envs/psrl/lib/python3.8/site-packages/tf_agents/networks/actor_distribution_network.py:158\u001b[0m, in \u001b[0;36mActorDistributionNetwork.__init__.<locals>.map_proj\u001b[0;34m(spec)\u001b[0m\n\u001b[1;32m    <a href='file:///home/alfred/anaconda3/envs/psrl/lib/python3.8/site-packages/tf_agents/networks/actor_distribution_network.py?line=155'>156</a>\u001b[0m   kwargs[\u001b[39m'\u001b[39m\u001b[39mseed\u001b[39m\u001b[39m'\u001b[39m] \u001b[39m=\u001b[39m seed\n\u001b[1;32m    <a href='file:///home/alfred/anaconda3/envs/psrl/lib/python3.8/site-packages/tf_agents/networks/actor_distribution_network.py?line=156'>157</a>\u001b[0m   kwargs[\u001b[39m'\u001b[39m\u001b[39mseed_stream_class\u001b[39m\u001b[39m'\u001b[39m] \u001b[39m=\u001b[39m seed_stream_class\n\u001b[0;32m--> <a href='file:///home/alfred/anaconda3/envs/psrl/lib/python3.8/site-packages/tf_agents/networks/actor_distribution_network.py?line=157'>158</a>\u001b[0m \u001b[39mreturn\u001b[39;00m continuous_projection_net(spec, \u001b[39m*\u001b[39;49m\u001b[39m*\u001b[39;49mkwargs)\n",
      "File \u001b[0;32m~/anaconda3/envs/psrl/lib/python3.8/site-packages/gin/config.py:1605\u001b[0m, in \u001b[0;36m_make_gin_wrapper.<locals>.gin_wrapper\u001b[0;34m(*args, **kwargs)\u001b[0m\n\u001b[1;32m   <a href='file:///home/alfred/anaconda3/envs/psrl/lib/python3.8/site-packages/gin/config.py?line=1602'>1603</a>\u001b[0m scope_info \u001b[39m=\u001b[39m \u001b[39m\"\u001b[39m\u001b[39m in scope \u001b[39m\u001b[39m'\u001b[39m\u001b[39m{}\u001b[39;00m\u001b[39m'\u001b[39m\u001b[39m\"\u001b[39m\u001b[39m.\u001b[39mformat(scope_str) \u001b[39mif\u001b[39;00m scope_str \u001b[39melse\u001b[39;00m \u001b[39m'\u001b[39m\u001b[39m'\u001b[39m\n\u001b[1;32m   <a href='file:///home/alfred/anaconda3/envs/psrl/lib/python3.8/site-packages/gin/config.py?line=1603'>1604</a>\u001b[0m err_str \u001b[39m=\u001b[39m err_str\u001b[39m.\u001b[39mformat(name, fn_or_cls, scope_info)\n\u001b[0;32m-> <a href='file:///home/alfred/anaconda3/envs/psrl/lib/python3.8/site-packages/gin/config.py?line=1604'>1605</a>\u001b[0m utils\u001b[39m.\u001b[39;49maugment_exception_message_and_reraise(e, err_str)\n",
      "File \u001b[0;32m~/anaconda3/envs/psrl/lib/python3.8/site-packages/gin/utils.py:41\u001b[0m, in \u001b[0;36maugment_exception_message_and_reraise\u001b[0;34m(exception, message)\u001b[0m\n\u001b[1;32m     <a href='file:///home/alfred/anaconda3/envs/psrl/lib/python3.8/site-packages/gin/utils.py?line=38'>39</a>\u001b[0m proxy \u001b[39m=\u001b[39m ExceptionProxy()\n\u001b[1;32m     <a href='file:///home/alfred/anaconda3/envs/psrl/lib/python3.8/site-packages/gin/utils.py?line=39'>40</a>\u001b[0m ExceptionProxy\u001b[39m.\u001b[39m\u001b[39m__qualname__\u001b[39m \u001b[39m=\u001b[39m \u001b[39mtype\u001b[39m(exception)\u001b[39m.\u001b[39m\u001b[39m__qualname__\u001b[39m\n\u001b[0;32m---> <a href='file:///home/alfred/anaconda3/envs/psrl/lib/python3.8/site-packages/gin/utils.py?line=40'>41</a>\u001b[0m \u001b[39mraise\u001b[39;00m proxy\u001b[39m.\u001b[39mwith_traceback(exception\u001b[39m.\u001b[39m__traceback__) \u001b[39mfrom\u001b[39;00m \u001b[39mNone\u001b[39m\n",
      "File \u001b[0;32m~/anaconda3/envs/psrl/lib/python3.8/site-packages/gin/config.py:1582\u001b[0m, in \u001b[0;36m_make_gin_wrapper.<locals>.gin_wrapper\u001b[0;34m(*args, **kwargs)\u001b[0m\n\u001b[1;32m   <a href='file:///home/alfred/anaconda3/envs/psrl/lib/python3.8/site-packages/gin/config.py?line=1578'>1579</a>\u001b[0m new_kwargs\u001b[39m.\u001b[39mupdate(kwargs)\n\u001b[1;32m   <a href='file:///home/alfred/anaconda3/envs/psrl/lib/python3.8/site-packages/gin/config.py?line=1580'>1581</a>\u001b[0m \u001b[39mtry\u001b[39;00m:\n\u001b[0;32m-> <a href='file:///home/alfred/anaconda3/envs/psrl/lib/python3.8/site-packages/gin/config.py?line=1581'>1582</a>\u001b[0m   \u001b[39mreturn\u001b[39;00m fn(\u001b[39m*\u001b[39;49mnew_args, \u001b[39m*\u001b[39;49m\u001b[39m*\u001b[39;49mnew_kwargs)\n\u001b[1;32m   <a href='file:///home/alfred/anaconda3/envs/psrl/lib/python3.8/site-packages/gin/config.py?line=1582'>1583</a>\u001b[0m \u001b[39mexcept\u001b[39;00m \u001b[39mException\u001b[39;00m \u001b[39mas\u001b[39;00m e:  \u001b[39m# pylint: disable=broad-except\u001b[39;00m\n\u001b[1;32m   <a href='file:///home/alfred/anaconda3/envs/psrl/lib/python3.8/site-packages/gin/config.py?line=1583'>1584</a>\u001b[0m   err_str \u001b[39m=\u001b[39m \u001b[39m'\u001b[39m\u001b[39m'\u001b[39m\n",
      "File \u001b[0;32m~/anaconda3/envs/psrl/lib/python3.8/site-packages/tf_agents/networks/network.py:101\u001b[0m, in \u001b[0;36m_NetworkMeta.__new__.<locals>._capture_init\u001b[0;34m(self, *args, **kwargs)\u001b[0m\n\u001b[1;32m     <a href='file:///home/alfred/anaconda3/envs/psrl/lib/python3.8/site-packages/tf_agents/networks/network.py?line=98'>99</a>\u001b[0m kwargs \u001b[39m=\u001b[39m tf_inspect\u001b[39m.\u001b[39mgetcallargs(init, \u001b[39mself\u001b[39m, \u001b[39m*\u001b[39margs, \u001b[39m*\u001b[39m\u001b[39m*\u001b[39mkwargs)\n\u001b[1;32m    <a href='file:///home/alfred/anaconda3/envs/psrl/lib/python3.8/site-packages/tf_agents/networks/network.py?line=99'>100</a>\u001b[0m kwargs\u001b[39m.\u001b[39mpop(\u001b[39m\"\u001b[39m\u001b[39mself\u001b[39m\u001b[39m\"\u001b[39m)\n\u001b[0;32m--> <a href='file:///home/alfred/anaconda3/envs/psrl/lib/python3.8/site-packages/tf_agents/networks/network.py?line=100'>101</a>\u001b[0m init(\u001b[39mself\u001b[39;49m, \u001b[39m*\u001b[39;49m\u001b[39m*\u001b[39;49mkwargs)\n\u001b[1;32m    <a href='file:///home/alfred/anaconda3/envs/psrl/lib/python3.8/site-packages/tf_agents/networks/network.py?line=101'>102</a>\u001b[0m \u001b[39m# Avoid auto tracking which prevents keras from tracking layers that are\u001b[39;00m\n\u001b[1;32m    <a href='file:///home/alfred/anaconda3/envs/psrl/lib/python3.8/site-packages/tf_agents/networks/network.py?line=102'>103</a>\u001b[0m \u001b[39m# passed as kwargs to the Network.\u001b[39;00m\n\u001b[1;32m    <a href='file:///home/alfred/anaconda3/envs/psrl/lib/python3.8/site-packages/tf_agents/networks/network.py?line=103'>104</a>\u001b[0m \u001b[39mwith\u001b[39;00m base\u001b[39m.\u001b[39mno_automatic_dependency_tracking_scope(\u001b[39mself\u001b[39m):\n",
      "File \u001b[0;32m~/anaconda3/envs/psrl/lib/python3.8/site-packages/tf_agents/agents/sac/tanh_normal_projection_network.py:79\u001b[0m, in \u001b[0;36mTanhNormalProjectionNetwork.__init__\u001b[0;34m(self, sample_spec, activation_fn, std_transform, name)\u001b[0m\n\u001b[1;32m     <a href='file:///home/alfred/anaconda3/envs/psrl/lib/python3.8/site-packages/tf_agents/agents/sac/tanh_normal_projection_network.py?line=74'>75</a>\u001b[0m \u001b[39mself\u001b[39m\u001b[39m.\u001b[39m_sample_spec \u001b[39m=\u001b[39m sample_spec\n\u001b[1;32m     <a href='file:///home/alfred/anaconda3/envs/psrl/lib/python3.8/site-packages/tf_agents/agents/sac/tanh_normal_projection_network.py?line=75'>76</a>\u001b[0m \u001b[39mself\u001b[39m\u001b[39m.\u001b[39m_std_transform \u001b[39m=\u001b[39m std_transform\n\u001b[1;32m     <a href='file:///home/alfred/anaconda3/envs/psrl/lib/python3.8/site-packages/tf_agents/agents/sac/tanh_normal_projection_network.py?line=77'>78</a>\u001b[0m \u001b[39mself\u001b[39m\u001b[39m.\u001b[39m_projection_layer \u001b[39m=\u001b[39m tf\u001b[39m.\u001b[39mkeras\u001b[39m.\u001b[39mlayers\u001b[39m.\u001b[39mDense(\n\u001b[0;32m---> <a href='file:///home/alfred/anaconda3/envs/psrl/lib/python3.8/site-packages/tf_agents/agents/sac/tanh_normal_projection_network.py?line=78'>79</a>\u001b[0m     sample_spec\u001b[39m.\u001b[39;49mshape\u001b[39m.\u001b[39;49mnum_elements() \u001b[39m*\u001b[39m \u001b[39m2\u001b[39m,\n\u001b[1;32m     <a href='file:///home/alfred/anaconda3/envs/psrl/lib/python3.8/site-packages/tf_agents/agents/sac/tanh_normal_projection_network.py?line=79'>80</a>\u001b[0m     activation\u001b[39m=\u001b[39mactivation_fn,\n\u001b[1;32m     <a href='file:///home/alfred/anaconda3/envs/psrl/lib/python3.8/site-packages/tf_agents/agents/sac/tanh_normal_projection_network.py?line=80'>81</a>\u001b[0m     name\u001b[39m=\u001b[39m\u001b[39m'\u001b[39m\u001b[39mprojection_layer\u001b[39m\u001b[39m'\u001b[39m)\n",
      "\u001b[0;31mAttributeError\u001b[0m: 'tuple' object has no attribute 'num_elements'\n  In call to configurable 'TanhNormalProjectionNetwork' (<class 'tf_agents.agents.sac.tanh_normal_projection_network.TanhNormalProjectionNetwork'>)\n  In call to configurable 'ActorDistributionNetwork' (<class 'tf_agents.networks.actor_distribution_network.ActorDistributionNetwork'>)"
     ]
    }
   ],
   "source": [
    "with strategy.scope():\n",
    "  actor_net = actor_distribution_network.ActorDistributionNetwork(\n",
    "      observation_spec,\n",
    "      action_spec,\n",
    "      fc_layer_params=actor_fc_layer_params,\n",
    "      continuous_projection_net=(\n",
    "          tanh_normal_projection_network.TanhNormalProjectionNetwork))"
   ]
  },
  {
   "cell_type": "code",
   "execution_count": null,
   "metadata": {},
   "outputs": [],
   "source": [
    "with strategy.scope():\n",
    "  train_step = train_utils.create_train_step()\n",
    "\n",
    "  tf_agent = sac_agent.SacAgent(\n",
    "        time_step_spec,\n",
    "        action_spec,\n",
    "        actor_network=actor_net,\n",
    "        critic_network=critic_net,\n",
    "        actor_optimizer=tf.keras.optimizers.Adam(\n",
    "            learning_rate=actor_learning_rate),\n",
    "        critic_optimizer=tf.keras.optimizers.Adam(\n",
    "            learning_rate=critic_learning_rate),\n",
    "        alpha_optimizer=tf.keras.optimizers.Adam(\n",
    "            learning_rate=alpha_learning_rate),\n",
    "        target_update_tau=target_update_tau,\n",
    "        target_update_period=target_update_period,\n",
    "        td_errors_loss_fn=tf.math.squared_difference,\n",
    "        gamma=gamma,\n",
    "        reward_scale_factor=reward_scale_factor,\n",
    "        train_step_counter=train_step)\n",
    "\n",
    "  tf_agent.initialize()"
   ]
  },
  {
   "cell_type": "code",
   "execution_count": null,
   "metadata": {},
   "outputs": [],
   "source": [
    "rate_limiter=reverb.rate_limiters.SampleToInsertRatio(samples_per_insert=3.0, min_size_to_sample=3, error_buffer=3.0)"
   ]
  },
  {
   "cell_type": "code",
   "execution_count": 9,
   "metadata": {},
   "outputs": [
    {
     "name": "stderr",
     "output_type": "stream",
     "text": [
      "[reverb/cc/platform/tfrecord_checkpointer.cc:150]  Initializing TFRecordCheckpointer in /tmp/tmpua796o03.\n",
      "[reverb/cc/platform/tfrecord_checkpointer.cc:386] Loading latest checkpoint from /tmp/tmpua796o03\n",
      "[reverb/cc/platform/default/server.cc:71] Started replay server on port 15122\n"
     ]
    }
   ],
   "source": [
    "table_name = 'uniform_table'\n",
    "table = reverb.Table(\n",
    "    table_name,\n",
    "    max_size=replay_buffer_capacity,\n",
    "    sampler=reverb.selectors.Uniform(),\n",
    "    remover=reverb.selectors.Fifo(),\n",
    "    rate_limiter=reverb.rate_limiters.MinSize(1))\n",
    "\n",
    "reverb_server = reverb.Server([table])"
   ]
  },
  {
   "cell_type": "code",
   "execution_count": null,
   "metadata": {},
   "outputs": [],
   "source": []
  }
 ],
 "metadata": {
  "interpreter": {
   "hash": "da4a426b45323a5769484e5de23571636caa18923bf66292f18a7e8c9ce41f2f"
  },
  "kernelspec": {
   "display_name": "Python 3.8.13 ('ps')",
   "language": "python",
   "name": "python3"
  },
  "language_info": {
   "codemirror_mode": {
    "name": "ipython",
    "version": 3
   },
   "file_extension": ".py",
   "mimetype": "text/x-python",
   "name": "python",
   "nbconvert_exporter": "python",
   "pygments_lexer": "ipython3",
   "version": "3.8.13"
  },
  "orig_nbformat": 4
 },
 "nbformat": 4,
 "nbformat_minor": 2
}
